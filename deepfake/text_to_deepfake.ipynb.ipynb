{
  "nbformat": 4,
  "nbformat_minor": 0,
  "metadata": {
    "colab": {
      "name": "Copy of Wav2Lip-HQ inference.ipynb",
      "provenance": [],
      "collapsed_sections": []
    },
    "kernelspec": {
      "name": "python3",
      "display_name": "Python 3"
    },
    "language_info": {
      "name": "python"
    },
    "accelerator": "GPU"
  },
  "cells": [
    {
      "cell_type": "markdown",
      "source": [
        "Input text"
      ],
      "metadata": {
        "id": "CjOaQOcp9YX3"
      }
    },
    {
      "cell_type": "code",
      "source": [
        "qna = {\"WHAT_IS_CAR_INSURANCE\" : \"Car Insurance is a contract you and your insurer enter into, to protect you from financial damages caused by unforeseeable circumstances like accidents, theft, and even natural calamities\",\n",
        " \"WHAT_ARE_THE_DOCUMENTS_REQUIRED_TO_BUY_CAR_INSURANCE_ONLINE\" : \"The documents required are Details about your vehicle including registration number, A valid driver’s licence, Completed claim form, Bank details, Tax receipts and Filled insurance forms\",\n",
        " \"What_are_the_types_of_car_insurance_in_India\" : \"Out of the two types of car insurance, Third-Party and Comprehensive Insurance, the latter covers damages to you, your property, along with damages to the third party . In contrast, the third-party insurance body injury or death and property damage of the other person.\"\n",
        "}"
      ],
      "metadata": {
        "id": "bSiyz2cs9mH_"
      },
      "execution_count": 11,
      "outputs": []
    },
    {
      "cell_type": "markdown",
      "source": [
        "Text to speech"
      ],
      "metadata": {
        "id": "q3rJ-ukt9cug"
      }
    },
    {
      "cell_type": "code",
      "source": [
        "!pip install google-cloud-texttospeech"
      ],
      "metadata": {
        "colab": {
          "base_uri": "https://localhost:8080/",
          "height": 748
        },
        "id": "5kKhvZ3TAjxN",
        "outputId": "25724bd1-c389-4f67-eb95-97562b6e784c"
      },
      "execution_count": 4,
      "outputs": [
        {
          "output_type": "stream",
          "name": "stdout",
          "text": [
            "Looking in indexes: https://pypi.org/simple, https://us-python.pkg.dev/colab-wheels/public/simple/\n",
            "Collecting google-cloud-texttospeech\n",
            "  Downloading google_cloud_texttospeech-2.11.1-py2.py3-none-any.whl (69 kB)\n",
            "\u001b[K     |████████████████████████████████| 69 kB 7.8 MB/s \n",
            "\u001b[?25hCollecting proto-plus<2.0.0dev,>=1.15.0\n",
            "  Downloading proto_plus-1.20.6-py3-none-any.whl (46 kB)\n",
            "\u001b[K     |████████████████████████████████| 46 kB 4.0 MB/s \n",
            "\u001b[?25hCollecting protobuf<4.0.0dev,>=3.19.0\n",
            "  Downloading protobuf-3.20.1-cp37-cp37m-manylinux_2_5_x86_64.manylinux1_x86_64.whl (1.0 MB)\n",
            "\u001b[K     |████████████████████████████████| 1.0 MB 61.6 MB/s \n",
            "\u001b[?25hRequirement already satisfied: google-api-core[grpc]!=2.0.*,!=2.1.*,!=2.2.*,!=2.3.0,<3.0.0dev,>=1.31.5 in /usr/local/lib/python3.7/dist-packages (from google-cloud-texttospeech) (1.31.6)\n",
            "Requirement already satisfied: six>=1.13.0 in /usr/local/lib/python3.7/dist-packages (from google-api-core[grpc]!=2.0.*,!=2.1.*,!=2.2.*,!=2.3.0,<3.0.0dev,>=1.31.5->google-cloud-texttospeech) (1.15.0)\n",
            "Requirement already satisfied: packaging>=14.3 in /usr/local/lib/python3.7/dist-packages (from google-api-core[grpc]!=2.0.*,!=2.1.*,!=2.2.*,!=2.3.0,<3.0.0dev,>=1.31.5->google-cloud-texttospeech) (21.3)\n",
            "Requirement already satisfied: requests<3.0.0dev,>=2.18.0 in /usr/local/lib/python3.7/dist-packages (from google-api-core[grpc]!=2.0.*,!=2.1.*,!=2.2.*,!=2.3.0,<3.0.0dev,>=1.31.5->google-cloud-texttospeech) (2.23.0)\n",
            "Requirement already satisfied: pytz in /usr/local/lib/python3.7/dist-packages (from google-api-core[grpc]!=2.0.*,!=2.1.*,!=2.2.*,!=2.3.0,<3.0.0dev,>=1.31.5->google-cloud-texttospeech) (2022.1)\n",
            "Requirement already satisfied: google-auth<2.0dev,>=1.25.0 in /usr/local/lib/python3.7/dist-packages (from google-api-core[grpc]!=2.0.*,!=2.1.*,!=2.2.*,!=2.3.0,<3.0.0dev,>=1.31.5->google-cloud-texttospeech) (1.35.0)\n",
            "Requirement already satisfied: setuptools>=40.3.0 in /usr/local/lib/python3.7/dist-packages (from google-api-core[grpc]!=2.0.*,!=2.1.*,!=2.2.*,!=2.3.0,<3.0.0dev,>=1.31.5->google-cloud-texttospeech) (57.4.0)\n",
            "Requirement already satisfied: googleapis-common-protos<2.0dev,>=1.6.0 in /usr/local/lib/python3.7/dist-packages (from google-api-core[grpc]!=2.0.*,!=2.1.*,!=2.2.*,!=2.3.0,<3.0.0dev,>=1.31.5->google-cloud-texttospeech) (1.56.2)\n",
            "Requirement already satisfied: grpcio<2.0dev,>=1.29.0 in /usr/local/lib/python3.7/dist-packages (from google-api-core[grpc]!=2.0.*,!=2.1.*,!=2.2.*,!=2.3.0,<3.0.0dev,>=1.31.5->google-cloud-texttospeech) (1.46.3)\n",
            "Requirement already satisfied: pyasn1-modules>=0.2.1 in /usr/local/lib/python3.7/dist-packages (from google-auth<2.0dev,>=1.25.0->google-api-core[grpc]!=2.0.*,!=2.1.*,!=2.2.*,!=2.3.0,<3.0.0dev,>=1.31.5->google-cloud-texttospeech) (0.2.8)\n",
            "Requirement already satisfied: cachetools<5.0,>=2.0.0 in /usr/local/lib/python3.7/dist-packages (from google-auth<2.0dev,>=1.25.0->google-api-core[grpc]!=2.0.*,!=2.1.*,!=2.2.*,!=2.3.0,<3.0.0dev,>=1.31.5->google-cloud-texttospeech) (4.2.4)\n",
            "Requirement already satisfied: rsa<5,>=3.1.4 in /usr/local/lib/python3.7/dist-packages (from google-auth<2.0dev,>=1.25.0->google-api-core[grpc]!=2.0.*,!=2.1.*,!=2.2.*,!=2.3.0,<3.0.0dev,>=1.31.5->google-cloud-texttospeech) (4.8)\n",
            "Requirement already satisfied: pyparsing!=3.0.5,>=2.0.2 in /usr/local/lib/python3.7/dist-packages (from packaging>=14.3->google-api-core[grpc]!=2.0.*,!=2.1.*,!=2.2.*,!=2.3.0,<3.0.0dev,>=1.31.5->google-cloud-texttospeech) (3.0.9)\n",
            "Requirement already satisfied: pyasn1<0.5.0,>=0.4.6 in /usr/local/lib/python3.7/dist-packages (from pyasn1-modules>=0.2.1->google-auth<2.0dev,>=1.25.0->google-api-core[grpc]!=2.0.*,!=2.1.*,!=2.2.*,!=2.3.0,<3.0.0dev,>=1.31.5->google-cloud-texttospeech) (0.4.8)\n",
            "Requirement already satisfied: certifi>=2017.4.17 in /usr/local/lib/python3.7/dist-packages (from requests<3.0.0dev,>=2.18.0->google-api-core[grpc]!=2.0.*,!=2.1.*,!=2.2.*,!=2.3.0,<3.0.0dev,>=1.31.5->google-cloud-texttospeech) (2022.6.15)\n",
            "Requirement already satisfied: chardet<4,>=3.0.2 in /usr/local/lib/python3.7/dist-packages (from requests<3.0.0dev,>=2.18.0->google-api-core[grpc]!=2.0.*,!=2.1.*,!=2.2.*,!=2.3.0,<3.0.0dev,>=1.31.5->google-cloud-texttospeech) (3.0.4)\n",
            "Requirement already satisfied: idna<3,>=2.5 in /usr/local/lib/python3.7/dist-packages (from requests<3.0.0dev,>=2.18.0->google-api-core[grpc]!=2.0.*,!=2.1.*,!=2.2.*,!=2.3.0,<3.0.0dev,>=1.31.5->google-cloud-texttospeech) (2.10)\n",
            "Requirement already satisfied: urllib3!=1.25.0,!=1.25.1,<1.26,>=1.21.1 in /usr/local/lib/python3.7/dist-packages (from requests<3.0.0dev,>=2.18.0->google-api-core[grpc]!=2.0.*,!=2.1.*,!=2.2.*,!=2.3.0,<3.0.0dev,>=1.31.5->google-cloud-texttospeech) (1.24.3)\n",
            "Installing collected packages: protobuf, proto-plus, google-cloud-texttospeech\n",
            "  Attempting uninstall: protobuf\n",
            "    Found existing installation: protobuf 3.17.3\n",
            "    Uninstalling protobuf-3.17.3:\n",
            "      Successfully uninstalled protobuf-3.17.3\n",
            "\u001b[31mERROR: pip's dependency resolver does not currently take into account all the packages that are installed. This behaviour is the source of the following dependency conflicts.\n",
            "tensorflow 2.8.2+zzzcolab20220527125636 requires protobuf<3.20,>=3.9.2, but you have protobuf 3.20.1 which is incompatible.\u001b[0m\n",
            "Successfully installed google-cloud-texttospeech-2.11.1 proto-plus-1.20.6 protobuf-3.20.1\n"
          ]
        },
        {
          "output_type": "display_data",
          "data": {
            "application/vnd.colab-display-data+json": {
              "pip_warning": {
                "packages": [
                  "google"
                ]
              }
            }
          },
          "metadata": {}
        }
      ]
    },
    {
      "cell_type": "code",
      "source": [
        "!pip install astropy>=3.1\n",
        "!pip install sunpy"
      ],
      "metadata": {
        "colab": {
          "base_uri": "https://localhost:8080/"
        },
        "id": "EqJT0grcGUxf",
        "outputId": "caeaed20-66e7-46cc-d1e5-92b2a1b5e47a"
      },
      "execution_count": 21,
      "outputs": [
        {
          "output_type": "stream",
          "name": "stdout",
          "text": [
            "Looking in indexes: https://pypi.org/simple, https://us-python.pkg.dev/colab-wheels/public/simple/\n",
            "Collecting sunpy\n",
            "  Downloading sunpy-3.1.7-cp37-cp37m-manylinux_2_17_x86_64.manylinux2014_x86_64.whl (6.0 MB)\n",
            "\u001b[K     |████████████████████████████████| 6.0 MB 29.8 MB/s \n",
            "\u001b[?25hRequirement already satisfied: numpy>=1.17.0 in /usr/local/lib/python3.7/dist-packages (from sunpy) (1.21.6)\n",
            "Requirement already satisfied: packaging>=19.0 in /usr/local/lib/python3.7/dist-packages (from sunpy) (21.3)\n",
            "Collecting parfive[ftp]>=1.2.0\n",
            "  Downloading parfive-1.5.1-py3-none-any.whl (19 kB)\n",
            "Requirement already satisfied: astropy>=4.2.0 in /usr/local/lib/python3.7/dist-packages (from sunpy) (4.3.1)\n",
            "Requirement already satisfied: pyerfa>=1.7.3 in /usr/local/lib/python3.7/dist-packages (from astropy>=4.2.0->sunpy) (2.0.0.1)\n",
            "Requirement already satisfied: importlib-metadata in /usr/local/lib/python3.7/dist-packages (from astropy>=4.2.0->sunpy) (4.11.4)\n",
            "Requirement already satisfied: pyparsing!=3.0.5,>=2.0.2 in /usr/local/lib/python3.7/dist-packages (from packaging>=19.0->sunpy) (3.0.9)\n",
            "Collecting aiohttp\n",
            "  Downloading aiohttp-3.8.1-cp37-cp37m-manylinux_2_5_x86_64.manylinux1_x86_64.manylinux_2_12_x86_64.manylinux2010_x86_64.whl (1.1 MB)\n",
            "\u001b[K     |████████████████████████████████| 1.1 MB 43.5 MB/s \n",
            "\u001b[?25hRequirement already satisfied: tqdm in /usr/local/lib/python3.7/dist-packages (from parfive[ftp]>=1.2.0->sunpy) (4.64.0)\n",
            "Collecting aioftp>=0.17.1\n",
            "  Downloading aioftp-0.21.2-py3-none-any.whl (37 kB)\n",
            "Collecting frozenlist>=1.1.1\n",
            "  Downloading frozenlist-1.3.0-cp37-cp37m-manylinux_2_5_x86_64.manylinux1_x86_64.manylinux_2_17_x86_64.manylinux2014_x86_64.whl (144 kB)\n",
            "\u001b[K     |████████████████████████████████| 144 kB 59.5 MB/s \n",
            "\u001b[?25hRequirement already satisfied: typing-extensions>=3.7.4 in /usr/local/lib/python3.7/dist-packages (from aiohttp->parfive[ftp]>=1.2.0->sunpy) (4.1.1)\n",
            "Collecting asynctest==0.13.0\n",
            "  Downloading asynctest-0.13.0-py3-none-any.whl (26 kB)\n",
            "Collecting aiosignal>=1.1.2\n",
            "  Downloading aiosignal-1.2.0-py3-none-any.whl (8.2 kB)\n",
            "Requirement already satisfied: charset-normalizer<3.0,>=2.0 in /usr/local/lib/python3.7/dist-packages (from aiohttp->parfive[ftp]>=1.2.0->sunpy) (2.0.12)\n",
            "Requirement already satisfied: attrs>=17.3.0 in /usr/local/lib/python3.7/dist-packages (from aiohttp->parfive[ftp]>=1.2.0->sunpy) (21.4.0)\n",
            "Collecting multidict<7.0,>=4.5\n",
            "  Downloading multidict-6.0.2-cp37-cp37m-manylinux_2_17_x86_64.manylinux2014_x86_64.whl (94 kB)\n",
            "\u001b[K     |████████████████████████████████| 94 kB 4.3 MB/s \n",
            "\u001b[?25hCollecting yarl<2.0,>=1.0\n",
            "  Downloading yarl-1.7.2-cp37-cp37m-manylinux_2_5_x86_64.manylinux1_x86_64.manylinux_2_12_x86_64.manylinux2010_x86_64.whl (271 kB)\n",
            "\u001b[K     |████████████████████████████████| 271 kB 72.6 MB/s \n",
            "\u001b[?25hCollecting async-timeout<5.0,>=4.0.0a3\n",
            "  Downloading async_timeout-4.0.2-py3-none-any.whl (5.8 kB)\n",
            "Requirement already satisfied: idna>=2.0 in /usr/local/lib/python3.7/dist-packages (from yarl<2.0,>=1.0->aiohttp->parfive[ftp]>=1.2.0->sunpy) (2.10)\n",
            "Requirement already satisfied: zipp>=0.5 in /usr/local/lib/python3.7/dist-packages (from importlib-metadata->astropy>=4.2.0->sunpy) (3.8.0)\n",
            "Installing collected packages: multidict, frozenlist, yarl, asynctest, async-timeout, aiosignal, aiohttp, parfive, aioftp, sunpy\n",
            "Successfully installed aioftp-0.21.2 aiohttp-3.8.1 aiosignal-1.2.0 async-timeout-4.0.2 asynctest-0.13.0 frozenlist-1.3.0 multidict-6.0.2 parfive-1.5.1 sunpy-3.1.7 yarl-1.7.2\n"
          ]
        }
      ]
    },
    {
      "cell_type": "code",
      "source": [
        "\"\"\"Synthesizes speech from the input string of text or ssml.\n",
        "Make sure to be working in a virtual environment.\n",
        "\n",
        "Note: ssml must be well-formed according to:\n",
        "    https://www.w3.org/TR/speech-synthesis/\n",
        "\"\"\"\n",
        "from google.cloud import texttospeech\n",
        "from google.oauth2 import service_account\n",
        "\n",
        "credentials = service_account.Credentials.from_service_account_file('/content/x-fabric-354419-9acfdbe125ee.json')\n",
        "\n",
        "client = texttospeech.TextToSpeechClient(credentials = credentials)\n"
      ],
      "metadata": {
        "id": "1qzRZsU__5JJ"
      },
      "execution_count": 1,
      "outputs": []
    },
    {
      "cell_type": "code",
      "source": [
        "!mkdir results"
      ],
      "metadata": {
        "colab": {
          "base_uri": "https://localhost:8080/"
        },
        "id": "3LHIpgyxCyd0",
        "outputId": "042489ab-cdac-468a-8201-70f066f0b3f6"
      },
      "execution_count": 2,
      "outputs": [
        {
          "output_type": "stream",
          "name": "stdout",
          "text": [
            "mkdir: cannot create directory ‘results’: File exists\n"
          ]
        }
      ]
    },
    {
      "cell_type": "code",
      "source": [
        "def text_to_speech(text:str,file_name:str):\n",
        "    # Set the text input to be synthesized\n",
        "    synthesis_input = texttospeech.SynthesisInput(text=text)\n",
        "\n",
        "    # Build the voice request, select the language code (\"en-US\") and the ssml\n",
        "    # voice gender (\"neutral\")\n",
        "    voice = texttospeech.VoiceSelectionParams(\n",
        "        language_code=\"en-IN\", ssml_gender=texttospeech.SsmlVoiceGender.FEMALE\n",
        "    )\n",
        "\n",
        "    # Select the type of audio file you want returned\n",
        "    audio_config = texttospeech.AudioConfig(\n",
        "        audio_encoding=texttospeech.AudioEncoding.MP3\n",
        "    )\n",
        "\n",
        "    # Perform the text-to-speech request on the text input with the selected\n",
        "    # voice parameters and audio file type\n",
        "    response = client.synthesize_speech(\n",
        "        input=synthesis_input, voice=voice, audio_config=audio_config\n",
        "    )\n",
        "\n",
        "    # The response's audio_content is binary.\n",
        "    print(file_name)\n",
        "    with open(\"/content/\"+file_name+\".mp3\", \"wb\") as out:\n",
        "        # Write the response to the output file.\n",
        "        out.write(response.audio_content)\n",
        "        print('Audio content written to file')"
      ],
      "metadata": {
        "id": "TEh97I-qAdTZ"
      },
      "execution_count": 23,
      "outputs": []
    },
    {
      "cell_type": "markdown",
      "source": [
        "speech to black video"
      ],
      "metadata": {
        "id": "-BecrpOu9eqQ"
      }
    },
    {
      "cell_type": "code",
      "source": [
        "!curl https://upload.wikimedia.org/wikipedia/commons/thumb/4/49/A_black_image.jpg/640px-A_black_image.jpg --output img.jpg"
      ],
      "metadata": {
        "colab": {
          "base_uri": "https://localhost:8080/"
        },
        "id": "2GlmFc2YCCrK",
        "outputId": "ee59f080-db58-4de6-929f-1fe821bf1e1c"
      },
      "execution_count": 14,
      "outputs": [
        {
          "output_type": "stream",
          "name": "stdout",
          "text": [
            "  % Total    % Received % Xferd  Average Speed   Time    Time     Time  Current\n",
            "                                 Dload  Upload   Total   Spent    Left  Speed\n",
            "\r  0     0    0     0    0     0      0      0 --:--:-- --:--:-- --:--:--     0\r100 16888  100 16888    0     0   687k      0 --:--:-- --:--:-- --:--:--  687k\n"
          ]
        }
      ]
    },
    {
      "cell_type": "code",
      "source": [
        "import subprocess\n",
        "def convert_speech_to_blank_video(filename:str):\n",
        "    ex_str = \"ffmpeg -loop 1 -i /content/img.jpg -i /content/\"+filename+\".mp3 -shortest -acodec copy -vcodec mjpeg \"+filename+\".mp4\"\n",
        "    subprocess.call(ex_str, shell=True)\n"
      ],
      "metadata": {
        "id": "CVAvZtkWBEm7"
      },
      "execution_count": 25,
      "outputs": []
    },
    {
      "cell_type": "markdown",
      "source": [
        "Video to deepfake"
      ],
      "metadata": {
        "id": "WpJx1QH99jx5"
      }
    },
    {
      "cell_type": "code",
      "metadata": {
        "id": "Lb6Q78lTNeSj",
        "colab": {
          "base_uri": "https://localhost:8080/"
        },
        "outputId": "7b88e384-043f-42be-af36-ecf3643a4702"
      },
      "source": [
        "!git clone https://github.com/Markfryazino/wav2lip-hq.git\n",
        "%cd wav2lip-hq\n",
        "!pip3 install gdown\n",
        "!pip3 install -r requirements.txt\n",
        "\n",
        "!wget \"https://www.adrianbulat.com/downloads/python-fan/s3fd-619a316812.pth\" -O \"face_detection/detection/sfd/s3fd.pth\""
      ],
      "execution_count": 16,
      "outputs": [
        {
          "output_type": "stream",
          "name": "stdout",
          "text": [
            "Cloning into 'wav2lip-hq'...\n",
            "remote: Enumerating objects: 439, done.\u001b[K\n",
            "remote: Counting objects:   0% (1/439)\u001b[K\rremote: Counting objects:   1% (5/439)\u001b[K\rremote: Counting objects:   2% (9/439)\u001b[K\rremote: Counting objects:   3% (14/439)\u001b[K\rremote: Counting objects:   4% (18/439)\u001b[K\rremote: Counting objects:   5% (22/439)\u001b[K\rremote: Counting objects:   6% (27/439)\u001b[K\rremote: Counting objects:   7% (31/439)\u001b[K\rremote: Counting objects:   8% (36/439)\u001b[K\rremote: Counting objects:   9% (40/439)\u001b[K\rremote: Counting objects:  10% (44/439)\u001b[K\rremote: Counting objects:  11% (49/439)\u001b[K\rremote: Counting objects:  12% (53/439)\u001b[K\rremote: Counting objects:  13% (58/439)\u001b[K\rremote: Counting objects:  14% (62/439)\u001b[K\rremote: Counting objects:  15% (66/439)\u001b[K\rremote: Counting objects:  16% (71/439)\u001b[K\rremote: Counting objects:  17% (75/439)\u001b[K\rremote: Counting objects:  18% (80/439)\u001b[K\rremote: Counting objects:  19% (84/439)\u001b[K\rremote: Counting objects:  20% (88/439)\u001b[K\rremote: Counting objects:  21% (93/439)\u001b[K\rremote: Counting objects:  22% (97/439)\u001b[K\rremote: Counting objects:  23% (101/439)\u001b[K\rremote: Counting objects:  24% (106/439)\u001b[K\rremote: Counting objects:  25% (110/439)\u001b[K\rremote: Counting objects:  26% (115/439)\u001b[K\rremote: Counting objects:  27% (119/439)\u001b[K\rremote: Counting objects:  28% (123/439)\u001b[K\rremote: Counting objects:  29% (128/439)\u001b[K\rremote: Counting objects:  30% (132/439)\u001b[K\rremote: Counting objects:  31% (137/439)\u001b[K\rremote: Counting objects:  32% (141/439)\u001b[K\rremote: Counting objects:  33% (145/439)\u001b[K\rremote: Counting objects:  34% (150/439)\u001b[K\rremote: Counting objects:  35% (154/439)\u001b[K\rremote: Counting objects:  36% (159/439)\u001b[K\rremote: Counting objects:  37% (163/439)\u001b[K\rremote: Counting objects:  38% (167/439)\u001b[K\rremote: Counting objects:  39% (172/439)\u001b[K\rremote: Counting objects:  40% (176/439)\u001b[K\rremote: Counting objects:  41% (180/439)\u001b[K\rremote: Counting objects:  42% (185/439)\u001b[K\rremote: Counting objects:  43% (189/439)\u001b[K\rremote: Counting objects:  44% (194/439)\u001b[K\rremote: Counting objects:  45% (198/439)\u001b[K\rremote: Counting objects:  46% (202/439)\u001b[K\rremote: Counting objects:  47% (207/439)\u001b[K\rremote: Counting objects:  48% (211/439)\u001b[K\rremote: Counting objects:  49% (216/439)\u001b[K\rremote: Counting objects:  50% (220/439)\u001b[K\rremote: Counting objects:  51% (224/439)\u001b[K\rremote: Counting objects:  52% (229/439)\u001b[K\rremote: Counting objects:  53% (233/439)\u001b[K\rremote: Counting objects:  54% (238/439)\u001b[K\rremote: Counting objects:  55% (242/439)\u001b[K\rremote: Counting objects:  56% (246/439)\u001b[K\rremote: Counting objects:  57% (251/439)\u001b[K\rremote: Counting objects:  58% (255/439)\u001b[K\rremote: Counting objects:  59% (260/439)\u001b[K\rremote: Counting objects:  60% (264/439)\u001b[K\rremote: Counting objects:  61% (268/439)\u001b[K\rremote: Counting objects:  62% (273/439)\u001b[K\rremote: Counting objects:  63% (277/439)\u001b[K\rremote: Counting objects:  64% (281/439)\u001b[K\rremote: Counting objects:  65% (286/439)\u001b[K\rremote: Counting objects:  66% (290/439)\u001b[K\rremote: Counting objects:  67% (295/439)\u001b[K\rremote: Counting objects:  68% (299/439)\u001b[K\rremote: Counting objects:  69% (303/439)\u001b[K\rremote: Counting objects:  70% (308/439)\u001b[K\rremote: Counting objects:  71% (312/439)\u001b[K\rremote: Counting objects:  72% (317/439)\u001b[K\rremote: Counting objects:  73% (321/439)\u001b[K\rremote: Counting objects:  74% (325/439)\u001b[K\rremote: Counting objects:  75% (330/439)\u001b[K\rremote: Counting objects:  76% (334/439)\u001b[K\rremote: Counting objects:  77% (339/439)\u001b[K\rremote: Counting objects:  78% (343/439)\u001b[K\rremote: Counting objects:  79% (347/439)\u001b[K\rremote: Counting objects:  80% (352/439)\u001b[K\rremote: Counting objects:  81% (356/439)\u001b[K\rremote: Counting objects:  82% (360/439)\u001b[K\rremote: Counting objects:  83% (365/439)\u001b[K\rremote: Counting objects:  84% (369/439)\u001b[K\rremote: Counting objects:  85% (374/439)\u001b[K\rremote: Counting objects:  86% (378/439)\u001b[K\rremote: Counting objects:  87% (382/439)\u001b[K\rremote: Counting objects:  88% (387/439)\u001b[K\rremote: Counting objects:  89% (391/439)\u001b[K\rremote: Counting objects:  90% (396/439)\u001b[K\rremote: Counting objects:  91% (400/439)\u001b[K\rremote: Counting objects:  92% (404/439)\u001b[K\rremote: Counting objects:  93% (409/439)\u001b[K\rremote: Counting objects:  94% (413/439)\u001b[K\rremote: Counting objects:  95% (418/439)\u001b[K\rremote: Counting objects:  96% (422/439)\u001b[K\rremote: Counting objects:  97% (426/439)\u001b[K\rremote: Counting objects:  98% (431/439)\u001b[K\rremote: Counting objects:  99% (435/439)\u001b[K\rremote: Counting objects: 100% (439/439)\u001b[K\rremote: Counting objects: 100% (439/439), done.\u001b[K\n",
            "remote: Compressing objects:   0% (1/302)\u001b[K\rremote: Compressing objects:   1% (4/302)\u001b[K\rremote: Compressing objects:   2% (7/302)\u001b[K\rremote: Compressing objects:   3% (10/302)\u001b[K\rremote: Compressing objects:   4% (13/302)\u001b[K\rremote: Compressing objects:   5% (16/302)\u001b[K\rremote: Compressing objects:   6% (19/302)\u001b[K\rremote: Compressing objects:   7% (22/302)\u001b[K\rremote: Compressing objects:   8% (25/302)\u001b[K\rremote: Compressing objects:   9% (28/302)\u001b[K\rremote: Compressing objects:  10% (31/302)\u001b[K\rremote: Compressing objects:  11% (34/302)\u001b[K\rremote: Compressing objects:  12% (37/302)\u001b[K\rremote: Compressing objects:  13% (40/302)\u001b[K\rremote: Compressing objects:  14% (43/302)\u001b[K\rremote: Compressing objects:  15% (46/302)\u001b[K\rremote: Compressing objects:  16% (49/302)\u001b[K\rremote: Compressing objects:  17% (52/302)\u001b[K\rremote: Compressing objects:  18% (55/302)\u001b[K\rremote: Compressing objects:  19% (58/302)\u001b[K\rremote: Compressing objects:  20% (61/302)\u001b[K\rremote: Compressing objects:  21% (64/302)\u001b[K\rremote: Compressing objects:  22% (67/302)\u001b[K\rremote: Compressing objects:  23% (70/302)\u001b[K\rremote: Compressing objects:  24% (73/302)\u001b[K\rremote: Compressing objects:  25% (76/302)\u001b[K\rremote: Compressing objects:  26% (79/302)\u001b[K\rremote: Compressing objects:  27% (82/302)\u001b[K\rremote: Compressing objects:  28% (85/302)\u001b[K\rremote: Compressing objects:  29% (88/302)\u001b[K\rremote: Compressing objects:  30% (91/302)\u001b[K\rremote: Compressing objects:  31% (94/302)\u001b[K\rremote: Compressing objects:  32% (97/302)\u001b[K\rremote: Compressing objects:  33% (100/302)\u001b[K\rremote: Compressing objects:  34% (103/302)\u001b[K\rremote: Compressing objects:  35% (106/302)\u001b[K\rremote: Compressing objects:  36% (109/302)\u001b[K\rremote: Compressing objects:  37% (112/302)\u001b[K\rremote: Compressing objects:  38% (115/302)\u001b[K\rremote: Compressing objects:  39% (118/302)\u001b[K\rremote: Compressing objects:  40% (121/302)\u001b[K\rremote: Compressing objects:  41% (124/302)\u001b[K\rremote: Compressing objects:  42% (127/302)\u001b[K\rremote: Compressing objects:  43% (130/302)\u001b[K\rremote: Compressing objects:  44% (133/302)\u001b[K\rremote: Compressing objects:  45% (136/302)\u001b[K\rremote: Compressing objects:  46% (139/302)\u001b[K\rremote: Compressing objects:  47% (142/302)\u001b[K\rremote: Compressing objects:  48% (145/302)\u001b[K\rremote: Compressing objects:  49% (148/302)\u001b[K\rremote: Compressing objects:  50% (151/302)\u001b[K\rremote: Compressing objects:  51% (155/302)\u001b[K\rremote: Compressing objects:  52% (158/302)\u001b[K\rremote: Compressing objects:  53% (161/302)\u001b[K\rremote: Compressing objects:  54% (164/302)\u001b[K\rremote: Compressing objects:  55% (167/302)\u001b[K\rremote: Compressing objects:  56% (170/302)\u001b[K\rremote: Compressing objects:  57% (173/302)\u001b[K\rremote: Compressing objects:  58% (176/302)\u001b[K\rremote: Compressing objects:  59% (179/302)\u001b[K\rremote: Compressing objects:  60% (182/302)\u001b[K\rremote: Compressing objects:  61% (185/302)\u001b[K\rremote: Compressing objects:  62% (188/302)\u001b[K\rremote: Compressing objects:  63% (191/302)\u001b[K\rremote: Compressing objects:  64% (194/302)\u001b[K\rremote: Compressing objects:  65% (197/302)\u001b[K\rremote: Compressing objects:  66% (200/302)\u001b[K\rremote: Compressing objects:  67% (203/302)\u001b[K\rremote: Compressing objects:  68% (206/302)\u001b[K\rremote: Compressing objects:  69% (209/302)\u001b[K\rremote: Compressing objects:  70% (212/302)\u001b[K\rremote: Compressing objects:  71% (215/302)\u001b[K\rremote: Compressing objects:  72% (218/302)\u001b[K\rremote: Compressing objects:  73% (221/302)\u001b[K\rremote: Compressing objects:  74% (224/302)\u001b[K\rremote: Compressing objects:  75% (227/302)\u001b[K\rremote: Compressing objects:  76% (230/302)\u001b[K\rremote: Compressing objects:  77% (233/302)\u001b[K\rremote: Compressing objects:  78% (236/302)\u001b[K\rremote: Compressing objects:  79% (239/302)\u001b[K\rremote: Compressing objects:  80% (242/302)\u001b[K\rremote: Compressing objects:  81% (245/302)\u001b[K\rremote: Compressing objects:  82% (248/302)\u001b[K\rremote: Compressing objects:  83% (251/302)\u001b[K\rremote: Compressing objects:  84% (254/302)\u001b[K\rremote: Compressing objects:  85% (257/302)\u001b[K\rremote: Compressing objects:  86% (260/302)\u001b[K\rremote: Compressing objects:  87% (263/302)\u001b[K\rremote: Compressing objects:  88% (266/302)\u001b[K\rremote: Compressing objects:  89% (269/302)\u001b[K\rremote: Compressing objects:  90% (272/302)\u001b[K\rremote: Compressing objects:  91% (275/302)\u001b[K\rremote: Compressing objects:  92% (278/302)\u001b[K\rremote: Compressing objects:  93% (281/302)\u001b[K\rremote: Compressing objects:  94% (284/302)\u001b[K\rremote: Compressing objects:  95% (287/302)\u001b[K\rremote: Compressing objects:  96% (290/302)\u001b[K\rremote: Compressing objects:  97% (293/302)\u001b[K\rremote: Compressing objects:  98% (296/302)\u001b[K\rremote: Compressing objects:  99% (299/302)\u001b[K\rremote: Compressing objects: 100% (302/302)\u001b[K\rremote: Compressing objects: 100% (302/302), done.\u001b[K\n",
            "Receiving objects:   0% (1/439)   \rReceiving objects:   1% (5/439)   \rReceiving objects:   2% (9/439)   \rReceiving objects:   3% (14/439)   \rReceiving objects:   4% (18/439)   \rReceiving objects:   5% (22/439)   \rReceiving objects:   6% (27/439)   \rReceiving objects:   7% (31/439)   \rReceiving objects:   8% (36/439)   \rReceiving objects:   9% (40/439)   \rReceiving objects:  10% (44/439)   \rReceiving objects:  11% (49/439)   \rReceiving objects:  12% (53/439)   \rReceiving objects:  13% (58/439)   \rReceiving objects:  14% (62/439)   \rReceiving objects:  15% (66/439)   \rReceiving objects:  16% (71/439)   \rReceiving objects:  17% (75/439)   \rReceiving objects:  18% (80/439)   \rReceiving objects:  19% (84/439)   \rReceiving objects:  20% (88/439)   \rReceiving objects:  21% (93/439)   \rReceiving objects:  22% (97/439)   \rReceiving objects:  23% (101/439)   \rReceiving objects:  24% (106/439)   \rReceiving objects:  25% (110/439)   \rReceiving objects:  26% (115/439)   \rReceiving objects:  27% (119/439)   \rReceiving objects:  28% (123/439)   \rReceiving objects:  29% (128/439)   \rReceiving objects:  30% (132/439)   \rReceiving objects:  31% (137/439)   \rReceiving objects:  32% (141/439)   \rReceiving objects:  33% (145/439)   \rReceiving objects:  34% (150/439)   \rReceiving objects:  35% (154/439)   \rReceiving objects:  36% (159/439)   \rReceiving objects:  37% (163/439)   \rReceiving objects:  38% (167/439)   \rReceiving objects:  39% (172/439)   \rReceiving objects:  40% (176/439)   \rReceiving objects:  41% (180/439)   \rReceiving objects:  42% (185/439)   \rReceiving objects:  43% (189/439)   \rReceiving objects:  44% (194/439)   \rReceiving objects:  45% (198/439)   \rReceiving objects:  46% (202/439)   \rReceiving objects:  47% (207/439)   \rReceiving objects:  48% (211/439)   \rReceiving objects:  49% (216/439)   \rReceiving objects:  50% (220/439)   \rReceiving objects:  51% (224/439)   \rReceiving objects:  52% (229/439)   \rReceiving objects:  53% (233/439)   \rReceiving objects:  54% (238/439)   \rReceiving objects:  55% (242/439)   \rReceiving objects:  56% (246/439)   \rReceiving objects:  57% (251/439)   \rReceiving objects:  58% (255/439)   \rReceiving objects:  59% (260/439)   \rReceiving objects:  60% (264/439)   \rReceiving objects:  61% (268/439)   \rReceiving objects:  62% (273/439)   \rReceiving objects:  63% (277/439)   \rReceiving objects:  64% (281/439)   \rReceiving objects:  65% (286/439)   \rReceiving objects:  66% (290/439)   \rReceiving objects:  67% (295/439)   \rReceiving objects:  68% (299/439)   \rReceiving objects:  69% (303/439)   \rReceiving objects:  70% (308/439)   \rReceiving objects:  71% (312/439)   \rReceiving objects:  72% (317/439)   \rReceiving objects:  73% (321/439)   \rReceiving objects:  74% (325/439)   \rReceiving objects:  75% (330/439)   \rReceiving objects:  76% (334/439)   \rReceiving objects:  77% (339/439)   \rReceiving objects:  78% (343/439)   \rReceiving objects:  79% (347/439)   \rReceiving objects:  80% (352/439)   \rReceiving objects:  81% (356/439)   \rReceiving objects:  82% (360/439)   \rReceiving objects:  83% (365/439)   \rReceiving objects:  84% (369/439)   \rReceiving objects:  85% (374/439)   \rReceiving objects:  86% (378/439)   \rReceiving objects:  87% (382/439)   \rReceiving objects:  88% (387/439)   \rReceiving objects:  89% (391/439)   \rReceiving objects:  90% (396/439)   \rReceiving objects:  91% (400/439)   \rReceiving objects:  92% (404/439)   \rReceiving objects:  93% (409/439)   \rremote: Total 439 (delta 123), reused 431 (delta 117), pack-reused 0\u001b[K\n",
            "Receiving objects:  94% (413/439)   \rReceiving objects:  95% (418/439)   \rReceiving objects:  96% (422/439)   \rReceiving objects:  97% (426/439)   \rReceiving objects:  98% (431/439)   \rReceiving objects:  99% (435/439)   \rReceiving objects: 100% (439/439)   \rReceiving objects: 100% (439/439), 4.07 MiB | 37.19 MiB/s, done.\n",
            "Resolving deltas:   0% (0/123)   \rResolving deltas:   3% (4/123)   \rResolving deltas:   5% (7/123)   \rResolving deltas:   8% (11/123)   \rResolving deltas:   9% (12/123)   \rResolving deltas:  13% (16/123)   \rResolving deltas:  14% (18/123)   \rResolving deltas:  15% (19/123)   \rResolving deltas:  16% (20/123)   \rResolving deltas:  17% (21/123)   \rResolving deltas:  18% (23/123)   \rResolving deltas:  19% (24/123)   \rResolving deltas:  21% (26/123)   \rResolving deltas:  22% (28/123)   \rResolving deltas:  23% (29/123)   \rResolving deltas:  24% (30/123)   \rResolving deltas:  25% (31/123)   \rResolving deltas:  26% (32/123)   \rResolving deltas:  27% (34/123)   \rResolving deltas:  28% (35/123)   \rResolving deltas:  29% (36/123)   \rResolving deltas:  30% (37/123)   \rResolving deltas:  31% (39/123)   \rResolving deltas:  32% (40/123)   \rResolving deltas:  33% (41/123)   \rResolving deltas:  34% (42/123)   \rResolving deltas:  35% (44/123)   \rResolving deltas:  36% (45/123)   \rResolving deltas:  38% (47/123)   \rResolving deltas:  40% (50/123)   \rResolving deltas:  41% (51/123)   \rResolving deltas:  43% (53/123)   \rResolving deltas:  54% (67/123)   \rResolving deltas:  62% (77/123)   \rResolving deltas:  63% (78/123)   \rResolving deltas:  64% (79/123)   \rResolving deltas:  65% (80/123)   \rResolving deltas:  73% (91/123)   \rResolving deltas:  88% (109/123)   \rResolving deltas:  92% (114/123)   \rResolving deltas:  93% (115/123)   \rResolving deltas:  94% (116/123)   \rResolving deltas:  95% (117/123)   \rResolving deltas:  98% (121/123)   \rResolving deltas:  99% (122/123)   \rResolving deltas: 100% (123/123)   \rResolving deltas: 100% (123/123), done.\n",
            "/content/wav2lip-hq/wav2lip-hq\n",
            "Looking in indexes: https://pypi.org/simple, https://us-python.pkg.dev/colab-wheels/public/simple/\n",
            "Requirement already satisfied: gdown in /usr/local/lib/python3.7/dist-packages (4.4.0)\n",
            "Requirement already satisfied: filelock in /usr/local/lib/python3.7/dist-packages (from gdown) (3.7.1)\n",
            "Requirement already satisfied: tqdm in /usr/local/lib/python3.7/dist-packages (from gdown) (4.64.0)\n",
            "Requirement already satisfied: requests[socks] in /usr/local/lib/python3.7/dist-packages (from gdown) (2.23.0)\n",
            "Requirement already satisfied: beautifulsoup4 in /usr/local/lib/python3.7/dist-packages (from gdown) (4.6.3)\n",
            "Requirement already satisfied: six in /usr/local/lib/python3.7/dist-packages (from gdown) (1.15.0)\n",
            "Requirement already satisfied: urllib3!=1.25.0,!=1.25.1,<1.26,>=1.21.1 in /usr/local/lib/python3.7/dist-packages (from requests[socks]->gdown) (1.24.3)\n",
            "Requirement already satisfied: idna<3,>=2.5 in /usr/local/lib/python3.7/dist-packages (from requests[socks]->gdown) (2.10)\n",
            "Requirement already satisfied: certifi>=2017.4.17 in /usr/local/lib/python3.7/dist-packages (from requests[socks]->gdown) (2022.6.15)\n",
            "Requirement already satisfied: chardet<4,>=3.0.2 in /usr/local/lib/python3.7/dist-packages (from requests[socks]->gdown) (3.0.4)\n",
            "Requirement already satisfied: PySocks!=1.5.7,>=1.5.6 in /usr/local/lib/python3.7/dist-packages (from requests[socks]->gdown) (1.7.1)\n",
            "Looking in indexes: https://pypi.org/simple, https://us-python.pkg.dev/colab-wheels/public/simple/\n",
            "Requirement already satisfied: addict in /usr/local/lib/python3.7/dist-packages (from -r requirements.txt (line 1)) (2.4.0)\n",
            "Requirement already satisfied: future in /usr/local/lib/python3.7/dist-packages (from -r requirements.txt (line 2)) (0.16.0)\n",
            "Requirement already satisfied: librosa==0.7.0 in /usr/local/lib/python3.7/dist-packages (from -r requirements.txt (line 3)) (0.7.0)\n",
            "Requirement already satisfied: lmdb in /usr/local/lib/python3.7/dist-packages (from -r requirements.txt (line 4)) (0.99)\n",
            "Requirement already satisfied: numba==0.48 in /usr/local/lib/python3.7/dist-packages (from -r requirements.txt (line 5)) (0.48.0)\n",
            "Requirement already satisfied: numpy in /usr/local/lib/python3.7/dist-packages (from -r requirements.txt (line 6)) (1.21.6)\n",
            "Requirement already satisfied: opencv-contrib-python>=4.2.0.34 in /usr/local/lib/python3.7/dist-packages (from -r requirements.txt (line 7)) (4.6.0.66)\n",
            "Requirement already satisfied: opencv-python in /usr/local/lib/python3.7/dist-packages (from -r requirements.txt (line 8)) (4.1.2.30)\n",
            "Requirement already satisfied: Pillow in /usr/local/lib/python3.7/dist-packages (from -r requirements.txt (line 9)) (7.1.2)\n",
            "Requirement already satisfied: pyyaml in /usr/local/lib/python3.7/dist-packages (from -r requirements.txt (line 10)) (3.13)\n",
            "Requirement already satisfied: requests in /usr/local/lib/python3.7/dist-packages (from -r requirements.txt (line 11)) (2.23.0)\n",
            "Requirement already satisfied: scikit-image in /usr/local/lib/python3.7/dist-packages (from -r requirements.txt (line 12)) (0.18.3)\n",
            "Requirement already satisfied: scipy in /usr/local/lib/python3.7/dist-packages (from -r requirements.txt (line 13)) (1.4.1)\n",
            "Requirement already satisfied: tb-nightly in /usr/local/lib/python3.7/dist-packages (from -r requirements.txt (line 14)) (2.10.0a20220625)\n",
            "Requirement already satisfied: torch>=1.3 in /usr/local/lib/python3.7/dist-packages (from -r requirements.txt (line 15)) (1.11.0+cu113)\n",
            "Requirement already satisfied: torchvision in /usr/local/lib/python3.7/dist-packages (from -r requirements.txt (line 16)) (0.12.0+cu113)\n",
            "Requirement already satisfied: tqdm in /usr/local/lib/python3.7/dist-packages (from -r requirements.txt (line 17)) (4.64.0)\n",
            "Requirement already satisfied: yapf in /usr/local/lib/python3.7/dist-packages (from -r requirements.txt (line 18)) (0.32.0)\n",
            "Requirement already satisfied: joblib>=0.12 in /usr/local/lib/python3.7/dist-packages (from librosa==0.7.0->-r requirements.txt (line 3)) (1.1.0)\n",
            "Requirement already satisfied: resampy>=0.2.0 in /usr/local/lib/python3.7/dist-packages (from librosa==0.7.0->-r requirements.txt (line 3)) (0.2.2)\n",
            "Requirement already satisfied: scikit-learn!=0.19.0,>=0.14.0 in /usr/local/lib/python3.7/dist-packages (from librosa==0.7.0->-r requirements.txt (line 3)) (1.0.2)\n",
            "Requirement already satisfied: six>=1.3 in /usr/local/lib/python3.7/dist-packages (from librosa==0.7.0->-r requirements.txt (line 3)) (1.15.0)\n",
            "Requirement already satisfied: decorator>=3.0.0 in /usr/local/lib/python3.7/dist-packages (from librosa==0.7.0->-r requirements.txt (line 3)) (4.4.2)\n",
            "Requirement already satisfied: soundfile>=0.9.0 in /usr/local/lib/python3.7/dist-packages (from librosa==0.7.0->-r requirements.txt (line 3)) (0.10.3.post1)\n",
            "Requirement already satisfied: audioread>=2.0.0 in /usr/local/lib/python3.7/dist-packages (from librosa==0.7.0->-r requirements.txt (line 3)) (2.1.9)\n",
            "Requirement already satisfied: setuptools in /usr/local/lib/python3.7/dist-packages (from numba==0.48->-r requirements.txt (line 5)) (57.4.0)\n",
            "Requirement already satisfied: llvmlite<0.32.0,>=0.31.0dev0 in /usr/local/lib/python3.7/dist-packages (from numba==0.48->-r requirements.txt (line 5)) (0.31.0)\n",
            "Requirement already satisfied: typing-extensions in /usr/local/lib/python3.7/dist-packages (from torch>=1.3->-r requirements.txt (line 15)) (4.1.1)\n",
            "Requirement already satisfied: threadpoolctl>=2.0.0 in /usr/local/lib/python3.7/dist-packages (from scikit-learn!=0.19.0,>=0.14.0->librosa==0.7.0->-r requirements.txt (line 3)) (3.1.0)\n",
            "Requirement already satisfied: cffi>=1.0 in /usr/local/lib/python3.7/dist-packages (from soundfile>=0.9.0->librosa==0.7.0->-r requirements.txt (line 3)) (1.15.0)\n",
            "Requirement already satisfied: pycparser in /usr/local/lib/python3.7/dist-packages (from cffi>=1.0->soundfile>=0.9.0->librosa==0.7.0->-r requirements.txt (line 3)) (2.21)\n",
            "Requirement already satisfied: urllib3!=1.25.0,!=1.25.1,<1.26,>=1.21.1 in /usr/local/lib/python3.7/dist-packages (from requests->-r requirements.txt (line 11)) (1.24.3)\n",
            "Requirement already satisfied: chardet<4,>=3.0.2 in /usr/local/lib/python3.7/dist-packages (from requests->-r requirements.txt (line 11)) (3.0.4)\n",
            "Requirement already satisfied: idna<3,>=2.5 in /usr/local/lib/python3.7/dist-packages (from requests->-r requirements.txt (line 11)) (2.10)\n",
            "Requirement already satisfied: certifi>=2017.4.17 in /usr/local/lib/python3.7/dist-packages (from requests->-r requirements.txt (line 11)) (2022.6.15)\n",
            "Requirement already satisfied: matplotlib!=3.0.0,>=2.0.0 in /usr/local/lib/python3.7/dist-packages (from scikit-image->-r requirements.txt (line 12)) (3.2.2)\n",
            "Requirement already satisfied: tifffile>=2019.7.26 in /usr/local/lib/python3.7/dist-packages (from scikit-image->-r requirements.txt (line 12)) (2021.11.2)\n",
            "Requirement already satisfied: networkx>=2.0 in /usr/local/lib/python3.7/dist-packages (from scikit-image->-r requirements.txt (line 12)) (2.6.3)\n",
            "Requirement already satisfied: PyWavelets>=1.1.1 in /usr/local/lib/python3.7/dist-packages (from scikit-image->-r requirements.txt (line 12)) (1.3.0)\n",
            "Requirement already satisfied: imageio>=2.3.0 in /usr/local/lib/python3.7/dist-packages (from scikit-image->-r requirements.txt (line 12)) (2.4.1)\n",
            "Requirement already satisfied: kiwisolver>=1.0.1 in /usr/local/lib/python3.7/dist-packages (from matplotlib!=3.0.0,>=2.0.0->scikit-image->-r requirements.txt (line 12)) (1.4.3)\n",
            "Requirement already satisfied: cycler>=0.10 in /usr/local/lib/python3.7/dist-packages (from matplotlib!=3.0.0,>=2.0.0->scikit-image->-r requirements.txt (line 12)) (0.11.0)\n",
            "Requirement already satisfied: python-dateutil>=2.1 in /usr/local/lib/python3.7/dist-packages (from matplotlib!=3.0.0,>=2.0.0->scikit-image->-r requirements.txt (line 12)) (2.8.2)\n",
            "Requirement already satisfied: pyparsing!=2.0.4,!=2.1.2,!=2.1.6,>=2.0.1 in /usr/local/lib/python3.7/dist-packages (from matplotlib!=3.0.0,>=2.0.0->scikit-image->-r requirements.txt (line 12)) (3.0.9)\n",
            "Requirement already satisfied: google-auth-oauthlib<0.5,>=0.4.1 in /usr/local/lib/python3.7/dist-packages (from tb-nightly->-r requirements.txt (line 14)) (0.4.6)\n",
            "Requirement already satisfied: wheel>=0.26 in /usr/local/lib/python3.7/dist-packages (from tb-nightly->-r requirements.txt (line 14)) (0.37.1)\n",
            "Requirement already satisfied: google-auth<3,>=1.6.3 in /usr/local/lib/python3.7/dist-packages (from tb-nightly->-r requirements.txt (line 14)) (1.35.0)\n",
            "Requirement already satisfied: grpcio>=1.24.3 in /usr/local/lib/python3.7/dist-packages (from tb-nightly->-r requirements.txt (line 14)) (1.46.3)\n",
            "Requirement already satisfied: tensorboard-data-server<0.7.0,>=0.6.0 in /usr/local/lib/python3.7/dist-packages (from tb-nightly->-r requirements.txt (line 14)) (0.6.1)\n",
            "Requirement already satisfied: werkzeug>=1.0.1 in /usr/local/lib/python3.7/dist-packages (from tb-nightly->-r requirements.txt (line 14)) (1.0.1)\n",
            "Requirement already satisfied: tensorboard-plugin-wit>=1.6.0 in /usr/local/lib/python3.7/dist-packages (from tb-nightly->-r requirements.txt (line 14)) (1.8.1)\n",
            "Requirement already satisfied: markdown>=2.6.8 in /usr/local/lib/python3.7/dist-packages (from tb-nightly->-r requirements.txt (line 14)) (3.3.7)\n",
            "Requirement already satisfied: protobuf<3.20,>=3.9.2 in /usr/local/lib/python3.7/dist-packages (from tb-nightly->-r requirements.txt (line 14)) (3.19.4)\n",
            "Requirement already satisfied: absl-py>=0.4 in /usr/local/lib/python3.7/dist-packages (from tb-nightly->-r requirements.txt (line 14)) (1.1.0)\n",
            "Requirement already satisfied: pyasn1-modules>=0.2.1 in /usr/local/lib/python3.7/dist-packages (from google-auth<3,>=1.6.3->tb-nightly->-r requirements.txt (line 14)) (0.2.8)\n",
            "Requirement already satisfied: rsa<5,>=3.1.4 in /usr/local/lib/python3.7/dist-packages (from google-auth<3,>=1.6.3->tb-nightly->-r requirements.txt (line 14)) (4.8)\n",
            "Requirement already satisfied: cachetools<5.0,>=2.0.0 in /usr/local/lib/python3.7/dist-packages (from google-auth<3,>=1.6.3->tb-nightly->-r requirements.txt (line 14)) (4.2.4)\n",
            "Requirement already satisfied: requests-oauthlib>=0.7.0 in /usr/local/lib/python3.7/dist-packages (from google-auth-oauthlib<0.5,>=0.4.1->tb-nightly->-r requirements.txt (line 14)) (1.3.1)\n",
            "Requirement already satisfied: importlib-metadata>=4.4 in /usr/local/lib/python3.7/dist-packages (from markdown>=2.6.8->tb-nightly->-r requirements.txt (line 14)) (4.11.4)\n",
            "Requirement already satisfied: zipp>=0.5 in /usr/local/lib/python3.7/dist-packages (from importlib-metadata>=4.4->markdown>=2.6.8->tb-nightly->-r requirements.txt (line 14)) (3.8.0)\n",
            "Requirement already satisfied: pyasn1<0.5.0,>=0.4.6 in /usr/local/lib/python3.7/dist-packages (from pyasn1-modules>=0.2.1->google-auth<3,>=1.6.3->tb-nightly->-r requirements.txt (line 14)) (0.4.8)\n",
            "Requirement already satisfied: oauthlib>=3.0.0 in /usr/local/lib/python3.7/dist-packages (from requests-oauthlib>=0.7.0->google-auth-oauthlib<0.5,>=0.4.1->tb-nightly->-r requirements.txt (line 14)) (3.2.0)\n",
            "--2022-06-25 23:22:35--  https://www.adrianbulat.com/downloads/python-fan/s3fd-619a316812.pth\n",
            "Resolving www.adrianbulat.com (www.adrianbulat.com)... 45.136.29.207\n",
            "Connecting to www.adrianbulat.com (www.adrianbulat.com)|45.136.29.207|:443... connected.\n",
            "HTTP request sent, awaiting response... 200 OK\n",
            "Length: 89843225 (86M) [application/octet-stream]\n",
            "Saving to: ‘face_detection/detection/sfd/s3fd.pth’\n",
            "\n",
            "face_detection/dete 100%[===================>]  85.68M  20.7MB/s    in 4.7s    \n",
            "\n",
            "2022-06-25 23:22:40 (18.4 MB/s) - ‘face_detection/detection/sfd/s3fd.pth’ saved [89843225/89843225]\n",
            "\n"
          ]
        }
      ]
    },
    {
      "cell_type": "code",
      "metadata": {
        "colab": {
          "base_uri": "https://localhost:8080/"
        },
        "id": "H7J5GnO7PjYo",
        "outputId": "a955e32b-1eb2-406a-d856-b125f53f3c52"
      },
      "source": [
        "import gdown\n",
        "\n",
        "urls = {\n",
        "    \"wav2lip_gan.pth\": \"10Iu05Modfti3pDbxCFPnofmfVlbkvrCm\", \n",
        "    \"face_segmentation.pth\": \"154JgKpzCPW82qINcVieuPH3fZ2e0P812\",\n",
        "    \"esrgan_max.pth\": \"1e5LT83YckB5wFKXWV4cWOPkVRnCDmvwQ\"\n",
        "}\n",
        "\n",
        "for name, id in urls.items():\n",
        "    url = f\"https://drive.google.com/uc?id={id}\"\n",
        "    output = f\"checkpoints/{name}\"\n",
        "    gdown.download(url, output, quiet=False)\n",
        "    print(f\"Loaded {name}\")"
      ],
      "execution_count": 17,
      "outputs": [
        {
          "output_type": "stream",
          "name": "stderr",
          "text": [
            "Downloading...\n",
            "From: https://drive.google.com/uc?id=10Iu05Modfti3pDbxCFPnofmfVlbkvrCm\n",
            "To: /content/wav2lip-hq/wav2lip-hq/checkpoints/wav2lip_gan.pth\n",
            "100%|██████████| 436M/436M [00:01<00:00, 258MB/s]\n"
          ]
        },
        {
          "output_type": "stream",
          "name": "stdout",
          "text": [
            "Loaded wav2lip_gan.pth\n"
          ]
        },
        {
          "output_type": "stream",
          "name": "stderr",
          "text": [
            "Downloading...\n",
            "From: https://drive.google.com/uc?id=154JgKpzCPW82qINcVieuPH3fZ2e0P812\n",
            "To: /content/wav2lip-hq/wav2lip-hq/checkpoints/face_segmentation.pth\n",
            "100%|██████████| 53.3M/53.3M [00:00<00:00, 299MB/s]\n"
          ]
        },
        {
          "output_type": "stream",
          "name": "stdout",
          "text": [
            "Loaded face_segmentation.pth\n"
          ]
        },
        {
          "output_type": "stream",
          "name": "stderr",
          "text": [
            "Downloading...\n",
            "From: https://drive.google.com/uc?id=1e5LT83YckB5wFKXWV4cWOPkVRnCDmvwQ\n",
            "To: /content/wav2lip-hq/wav2lip-hq/checkpoints/esrgan_max.pth\n",
            "100%|██████████| 67.0M/67.0M [00:00<00:00, 342MB/s]\n"
          ]
        },
        {
          "output_type": "stream",
          "name": "stdout",
          "text": [
            "Loaded esrgan_max.pth\n"
          ]
        }
      ]
    },
    {
      "cell_type": "code",
      "metadata": {
        "id": "upzbvGOmVnJT"
      },
      "source": [
        "def deepfake(video_path,audio_path,out_path):\n",
        "    ex_str = 'python inference.py --checkpoint_path \"checkpoints/wav2lip_gan.pth\" --segmentation_path \"checkpoints/face_segmentation.pth\" --sr_path \"checkpoints/esrgan_max.pth\" --face \"'+video_path+'\" --audio \"'+audio_path+'\" --outfile \"'+out_path+'\"'\n",
        "    subprocess.call(ex_str, shell=True)\n"
      ],
      "execution_count": 18,
      "outputs": []
    },
    {
      "cell_type": "code",
      "source": [
        "for question, answer in qna.items():\n",
        "    text_to_speech(answer,question)"
      ],
      "metadata": {
        "colab": {
          "base_uri": "https://localhost:8080/"
        },
        "id": "al5a1xrIEmhv",
        "outputId": "1022d93e-fc54-4068-e187-723f18479795"
      },
      "execution_count": 24,
      "outputs": [
        {
          "output_type": "stream",
          "name": "stdout",
          "text": [
            "WHAT_IS_CAR_INSURANCE\n",
            "Audio content written to file\n",
            "WHAT_ARE_THE_DOCUMENTS_REQUIRED_TO_BUY_CAR_INSURANCE_ONLINE\n",
            "Audio content written to file\n",
            "What_are_the_types_of_car_insurance_in_India\n",
            "Audio content written to file\n"
          ]
        }
      ]
    },
    {
      "cell_type": "code",
      "source": [
        "for question, answer in qna.items():\n",
        "    convert_speech_to_blank_video(question)"
      ],
      "metadata": {
        "id": "Bqw6iHVHGC9R"
      },
      "execution_count": 26,
      "outputs": []
    },
    {
      "cell_type": "code",
      "source": [
        "!ffmpeg -loop 1 -i /content/img.jpg -i /content/WHAT_ARE_THE_DOCUMENTS_REQUIRED_TO_BUY_CAR_INSURANCE_ONLINE.mp3 -shortest -acodec copy -vcodec mjpeg WHAT_ARE_THE_DOCUMENTS_REQUIRED_TO_BUY_CAR_INSURANCE_ONLINE.mp4\n",
        "!ffmpeg -loop 1 -i /content/img.jpg -i /content/WHAT_IS_CAR_INSURANCE.mp3 -shortest -acodec copy -vcodec mjpeg WHAT_IS_CAR_INSURANCE.mp4\n",
        "!ffmpeg -loop 1 -i /content/img.jpg -i /content/What_are_the_types_of_car_insurance_in_India.mp3 -shortest -acodec copy -vcodec mjpeg What_are_the_types_of_car_insurance_in_India.mp4"
      ],
      "metadata": {
        "colab": {
          "base_uri": "https://localhost:8080/"
        },
        "id": "AtCN2TSwH0NB",
        "outputId": "21afaab0-9a08-4952-abec-adb760b711e7"
      },
      "execution_count": 27,
      "outputs": [
        {
          "output_type": "stream",
          "name": "stdout",
          "text": [
            "ffmpeg version 3.4.11-0ubuntu0.1 Copyright (c) 2000-2022 the FFmpeg developers\n",
            "  built with gcc 7 (Ubuntu 7.5.0-3ubuntu1~18.04)\n",
            "  configuration: --prefix=/usr --extra-version=0ubuntu0.1 --toolchain=hardened --libdir=/usr/lib/x86_64-linux-gnu --incdir=/usr/include/x86_64-linux-gnu --enable-gpl --disable-stripping --enable-avresample --enable-avisynth --enable-gnutls --enable-ladspa --enable-libass --enable-libbluray --enable-libbs2b --enable-libcaca --enable-libcdio --enable-libflite --enable-libfontconfig --enable-libfreetype --enable-libfribidi --enable-libgme --enable-libgsm --enable-libmp3lame --enable-libmysofa --enable-libopenjpeg --enable-libopenmpt --enable-libopus --enable-libpulse --enable-librubberband --enable-librsvg --enable-libshine --enable-libsnappy --enable-libsoxr --enable-libspeex --enable-libssh --enable-libtheora --enable-libtwolame --enable-libvorbis --enable-libvpx --enable-libwavpack --enable-libwebp --enable-libx265 --enable-libxml2 --enable-libxvid --enable-libzmq --enable-libzvbi --enable-omx --enable-openal --enable-opengl --enable-sdl2 --enable-libdc1394 --enable-libdrm --enable-libiec61883 --enable-chromaprint --enable-frei0r --enable-libopencv --enable-libx264 --enable-shared\n",
            "  libavutil      55. 78.100 / 55. 78.100\n",
            "  libavcodec     57.107.100 / 57.107.100\n",
            "  libavformat    57. 83.100 / 57. 83.100\n",
            "  libavdevice    57. 10.100 / 57. 10.100\n",
            "  libavfilter     6.107.100 /  6.107.100\n",
            "  libavresample   3.  7.  0 /  3.  7.  0\n",
            "  libswscale      4.  8.100 /  4.  8.100\n",
            "  libswresample   2.  9.100 /  2.  9.100\n",
            "  libpostproc    54.  7.100 / 54.  7.100\n",
            "Input #0, image2, from '/content/img.jpg':\n",
            "  Duration: 00:00:00.04, start: 0.000000, bitrate: 3377 kb/s\n",
            "    Stream #0:0: Video: mjpeg, yuvj420p(pc, bt470bg/unknown/unknown), 640x480, 25 fps, 25 tbr, 25 tbn, 25 tbc\n",
            "\u001b[0;35m[mp3 @ 0x558610fcc600] \u001b[0m\u001b[0;33mEstimating duration from bitrate, this may be inaccurate\n",
            "\u001b[0mInput #1, mp3, from '/content/WHAT_ARE_THE_DOCUMENTS_REQUIRED_TO_BUY_CAR_INSURANCE_ONLINE.mp3':\n",
            "  Duration: 00:00:11.40, start: 0.000000, bitrate: 32 kb/s\n",
            "    Stream #1:0: Audio: mp3, 24000 Hz, mono, s16p, 32 kb/s\n",
            "File 'WHAT_ARE_THE_DOCUMENTS_REQUIRED_TO_BUY_CAR_INSURANCE_ONLINE.mp4' already exists. Overwrite ? [y/N] y\n",
            "Stream mapping:\n",
            "  Stream #0:0 -> #0:0 (mjpeg (native) -> mjpeg (native))\n",
            "  Stream #1:0 -> #0:1 (copy)\n",
            "Press [q] to stop, [?] for help\n",
            "Output #0, mp4, to 'WHAT_ARE_THE_DOCUMENTS_REQUIRED_TO_BUY_CAR_INSURANCE_ONLINE.mp4':\n",
            "  Metadata:\n",
            "    encoder         : Lavf57.83.100\n",
            "    Stream #0:0: Video: mjpeg (mp4v / 0x7634706D), yuvj420p(pc), 640x480, q=2-31, 200 kb/s, 25 fps, 12800 tbn, 25 tbc\n",
            "    Metadata:\n",
            "      encoder         : Lavc57.107.100 mjpeg\n",
            "    Side data:\n",
            "      cpb: bitrate max/min/avg: 0/0/200000 buffer size: 0 vbv_delay: -1\n",
            "    Stream #0:1: Audio: mp3 (mp4a / 0x6134706D), 24000 Hz, mono, s16p, 32 kb/s\n",
            "frame=  286 fps=0.0 q=24.8 Lsize=     816kB time=00:00:11.40 bitrate= 586.5kbits/s speed=24.4x    \n",
            "video:765kB audio:45kB subtitle:0kB other streams:0kB global headers:0kB muxing overhead: 0.840247%\n",
            "ffmpeg version 3.4.11-0ubuntu0.1 Copyright (c) 2000-2022 the FFmpeg developers\n",
            "  built with gcc 7 (Ubuntu 7.5.0-3ubuntu1~18.04)\n",
            "  configuration: --prefix=/usr --extra-version=0ubuntu0.1 --toolchain=hardened --libdir=/usr/lib/x86_64-linux-gnu --incdir=/usr/include/x86_64-linux-gnu --enable-gpl --disable-stripping --enable-avresample --enable-avisynth --enable-gnutls --enable-ladspa --enable-libass --enable-libbluray --enable-libbs2b --enable-libcaca --enable-libcdio --enable-libflite --enable-libfontconfig --enable-libfreetype --enable-libfribidi --enable-libgme --enable-libgsm --enable-libmp3lame --enable-libmysofa --enable-libopenjpeg --enable-libopenmpt --enable-libopus --enable-libpulse --enable-librubberband --enable-librsvg --enable-libshine --enable-libsnappy --enable-libsoxr --enable-libspeex --enable-libssh --enable-libtheora --enable-libtwolame --enable-libvorbis --enable-libvpx --enable-libwavpack --enable-libwebp --enable-libx265 --enable-libxml2 --enable-libxvid --enable-libzmq --enable-libzvbi --enable-omx --enable-openal --enable-opengl --enable-sdl2 --enable-libdc1394 --enable-libdrm --enable-libiec61883 --enable-chromaprint --enable-frei0r --enable-libopencv --enable-libx264 --enable-shared\n",
            "  libavutil      55. 78.100 / 55. 78.100\n",
            "  libavcodec     57.107.100 / 57.107.100\n",
            "  libavformat    57. 83.100 / 57. 83.100\n",
            "  libavdevice    57. 10.100 / 57. 10.100\n",
            "  libavfilter     6.107.100 /  6.107.100\n",
            "  libavresample   3.  7.  0 /  3.  7.  0\n",
            "  libswscale      4.  8.100 /  4.  8.100\n",
            "  libswresample   2.  9.100 /  2.  9.100\n",
            "  libpostproc    54.  7.100 / 54.  7.100\n",
            "Input #0, image2, from '/content/img.jpg':\n",
            "  Duration: 00:00:00.04, start: 0.000000, bitrate: 3377 kb/s\n",
            "    Stream #0:0: Video: mjpeg, yuvj420p(pc, bt470bg/unknown/unknown), 640x480, 25 fps, 25 tbr, 25 tbn, 25 tbc\n",
            "\u001b[0;35m[mp3 @ 0x555cda17e600] \u001b[0m\u001b[0;33mEstimating duration from bitrate, this may be inaccurate\n",
            "\u001b[0mInput #1, mp3, from '/content/WHAT_IS_CAR_INSURANCE.mp3':\n",
            "  Duration: 00:00:11.52, start: 0.000000, bitrate: 32 kb/s\n",
            "    Stream #1:0: Audio: mp3, 24000 Hz, mono, s16p, 32 kb/s\n",
            "File 'WHAT_IS_CAR_INSURANCE.mp4' already exists. Overwrite ? [y/N] y\n",
            "Stream mapping:\n",
            "  Stream #0:0 -> #0:0 (mjpeg (native) -> mjpeg (native))\n",
            "  Stream #1:0 -> #0:1 (copy)\n",
            "Press [q] to stop, [?] for help\n",
            "Output #0, mp4, to 'WHAT_IS_CAR_INSURANCE.mp4':\n",
            "  Metadata:\n",
            "    encoder         : Lavf57.83.100\n",
            "    Stream #0:0: Video: mjpeg (mp4v / 0x7634706D), yuvj420p(pc), 640x480, q=2-31, 200 kb/s, 25 fps, 12800 tbn, 25 tbc\n",
            "    Metadata:\n",
            "      encoder         : Lavc57.107.100 mjpeg\n",
            "    Side data:\n",
            "      cpb: bitrate max/min/avg: 0/0/200000 buffer size: 0 vbv_delay: -1\n",
            "    Stream #0:1: Audio: mp3 (mp4a / 0x6134706D), 24000 Hz, mono, s16p, 32 kb/s\n",
            "frame=  289 fps=0.0 q=24.8 Lsize=     824kB time=00:00:11.52 bitrate= 586.0kbits/s speed=22.9x    \n",
            "video:772kB audio:45kB subtitle:0kB other streams:0kB global headers:0kB muxing overhead: 0.839365%\n",
            "ffmpeg version 3.4.11-0ubuntu0.1 Copyright (c) 2000-2022 the FFmpeg developers\n",
            "  built with gcc 7 (Ubuntu 7.5.0-3ubuntu1~18.04)\n",
            "  configuration: --prefix=/usr --extra-version=0ubuntu0.1 --toolchain=hardened --libdir=/usr/lib/x86_64-linux-gnu --incdir=/usr/include/x86_64-linux-gnu --enable-gpl --disable-stripping --enable-avresample --enable-avisynth --enable-gnutls --enable-ladspa --enable-libass --enable-libbluray --enable-libbs2b --enable-libcaca --enable-libcdio --enable-libflite --enable-libfontconfig --enable-libfreetype --enable-libfribidi --enable-libgme --enable-libgsm --enable-libmp3lame --enable-libmysofa --enable-libopenjpeg --enable-libopenmpt --enable-libopus --enable-libpulse --enable-librubberband --enable-librsvg --enable-libshine --enable-libsnappy --enable-libsoxr --enable-libspeex --enable-libssh --enable-libtheora --enable-libtwolame --enable-libvorbis --enable-libvpx --enable-libwavpack --enable-libwebp --enable-libx265 --enable-libxml2 --enable-libxvid --enable-libzmq --enable-libzvbi --enable-omx --enable-openal --enable-opengl --enable-sdl2 --enable-libdc1394 --enable-libdrm --enable-libiec61883 --enable-chromaprint --enable-frei0r --enable-libopencv --enable-libx264 --enable-shared\n",
            "  libavutil      55. 78.100 / 55. 78.100\n",
            "  libavcodec     57.107.100 / 57.107.100\n",
            "  libavformat    57. 83.100 / 57. 83.100\n",
            "  libavdevice    57. 10.100 / 57. 10.100\n",
            "  libavfilter     6.107.100 /  6.107.100\n",
            "  libavresample   3.  7.  0 /  3.  7.  0\n",
            "  libswscale      4.  8.100 /  4.  8.100\n",
            "  libswresample   2.  9.100 /  2.  9.100\n",
            "  libpostproc    54.  7.100 / 54.  7.100\n",
            "Input #0, image2, from '/content/img.jpg':\n",
            "  Duration: 00:00:00.04, start: 0.000000, bitrate: 3377 kb/s\n",
            "    Stream #0:0: Video: mjpeg, yuvj420p(pc, bt470bg/unknown/unknown), 640x480, 25 fps, 25 tbr, 25 tbn, 25 tbc\n",
            "\u001b[0;35m[mp3 @ 0x561e1a1ac600] \u001b[0m\u001b[0;33mEstimating duration from bitrate, this may be inaccurate\n",
            "\u001b[0mInput #1, mp3, from '/content/What_are_the_types_of_car_insurance_in_India.mp3':\n",
            "  Duration: 00:00:15.96, start: 0.000000, bitrate: 32 kb/s\n",
            "    Stream #1:0: Audio: mp3, 24000 Hz, mono, s16p, 32 kb/s\n",
            "File 'What_are_the_types_of_car_insurance_in_India.mp4' already exists. Overwrite ? [y/N] y\n",
            "Stream mapping:\n",
            "  Stream #0:0 -> #0:0 (mjpeg (native) -> mjpeg (native))\n",
            "  Stream #1:0 -> #0:1 (copy)\n",
            "Press [q] to stop, [?] for help\n",
            "Output #0, mp4, to 'What_are_the_types_of_car_insurance_in_India.mp4':\n",
            "  Metadata:\n",
            "    encoder         : Lavf57.83.100\n",
            "    Stream #0:0: Video: mjpeg (mp4v / 0x7634706D), yuvj420p(pc), 640x480, q=2-31, 200 kb/s, 25 fps, 12800 tbn, 25 tbc\n",
            "    Metadata:\n",
            "      encoder         : Lavc57.107.100 mjpeg\n",
            "    Side data:\n",
            "      cpb: bitrate max/min/avg: 0/0/200000 buffer size: 0 vbv_delay: -1\n",
            "    Stream #0:1: Audio: mp3 (mp4a / 0x6134706D), 24000 Hz, mono, s16p, 32 kb/s\n",
            "frame=  400 fps=0.0 q=24.8 Lsize=    1116kB time=00:00:15.96 bitrate= 572.8kbits/s speed=24.6x    \n",
            "video:1045kB audio:62kB subtitle:0kB other streams:0kB global headers:0kB muxing overhead: 0.815508%\n"
          ]
        }
      ]
    },
    {
      "cell_type": "code",
      "source": [
        "for question, answer in qna.items():\n",
        "    deepfake(\"/content/demo_video_for_lip_sync.mp4\",\"/content/wav2lip-hq/wav2lip-hq/\"+question+\".mp4\",\"/content/output/\"+question+\".mp4\")"
      ],
      "metadata": {
        "id": "0jfCfnoVIMhq"
      },
      "execution_count": 30,
      "outputs": []
    },
    {
      "cell_type": "code",
      "source": [
        "/content/wav2lip-hq/wav2lip-hq/WHAT_ARE_THE_DOCUMENTS_REQUIRED_TO_BUY_CAR_INSURANCE_ONLINE.mp4"
      ],
      "metadata": {
        "id": "vFKECZZvJsah"
      },
      "execution_count": null,
      "outputs": []
    }
  ]
}